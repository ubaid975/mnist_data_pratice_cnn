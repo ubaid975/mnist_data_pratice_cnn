{
  "nbformat": 4,
  "nbformat_minor": 0,
  "metadata": {
    "colab": {
      "provenance": [],
      "gpuType": "T4"
    },
    "kernelspec": {
      "name": "python3",
      "display_name": "Python 3"
    },
    "language_info": {
      "name": "python"
    },
    "accelerator": "GPU"
  },
  "cells": [
    {
      "cell_type": "code",
      "execution_count": 85,
      "metadata": {
        "id": "-ukQ9ghmd2Cm"
      },
      "outputs": [],
      "source": [
        "import tensorflow\n",
        "from keras.datasets import mnist\n",
        "from keras.models import Sequential\n",
        "from keras.layers import Dense, Dropout, Flatten\n",
        "from keras.layers import Conv2D, MaxPooling2D\n",
        "from keras import backend as K\n",
        "import numpy as np\n",
        "import matplotlib.pyplot as plt\n",
        "from sklearn.metrics import confusion_matrix,precision_score,recall_score,f1_score,classification_report\n",
        "import itertools\n",
        "import seaborn as sns"
      ]
    },
    {
      "cell_type": "code",
      "source": [
        "(x_train,y_train),(x_test,y_test)=mnist.load_data()"
      ],
      "metadata": {
        "colab": {
          "base_uri": "https://localhost:8080/"
        },
        "id": "fVVN5bW8elVs",
        "outputId": "38b4fafb-3bb4-45aa-bf00-791ac0eac496"
      },
      "execution_count": null,
      "outputs": [
        {
          "output_type": "stream",
          "name": "stdout",
          "text": [
            "Downloading data from https://storage.googleapis.com/tensorflow/tf-keras-datasets/mnist.npz\n",
            "\u001b[1m11490434/11490434\u001b[0m \u001b[32m━━━━━━━━━━━━━━━━━━━━\u001b[0m\u001b[37m\u001b[0m \u001b[1m2s\u001b[0m 0us/step\n"
          ]
        }
      ]
    },
    {
      "cell_type": "code",
      "source": [
        "x_train[0]"
      ],
      "metadata": {
        "colab": {
          "base_uri": "https://localhost:8080/",
          "height": 68
        },
        "id": "MdMZ1WZbe8cU",
        "outputId": "a82e6641-de94-43bf-c64a-5619bfd2d34e"
      },
      "execution_count": null,
      "outputs": [
        {
          "output_type": "execute_result",
          "data": {
            "text/plain": [
              "array([[  0,   0,   0,   0,   0,   0,   0,   0,   0,   0,   0,   0,   0,\n",
              "          0,   0,   0,   0,   0,   0,   0,   0,   0,   0,   0,   0,   0,\n",
              "          0,   0],\n",
              "       [  0,   0,   0,   0,   0,   0,   0,   0,   0,   0,   0,   0,   0,\n",
              "          0,   0,   0,   0,   0,   0,   0,   0,   0,   0,   0,   0,   0,\n",
              "          0,   0],\n",
              "       [  0,   0,   0,   0,   0,   0,   0,   0,   0,   0,   0,   0,   0,\n",
              "          0,   0,   0,   0,   0,   0,   0,   0,   0,   0,   0,   0,   0,\n",
              "          0,   0],\n",
              "       [  0,   0,   0,   0,   0,   0,   0,   0,   0,   0,   0,   0,   0,\n",
              "          0,   0,   0,   0,   0,   0,   0,   0,   0,   0,   0,   0,   0,\n",
              "          0,   0],\n",
              "       [  0,   0,   0,   0,   0,   0,   0,   0,   0,   0,   0,   0,   0,\n",
              "          0,   0,   0,   0,   0,   0,   0,   0,   0,   0,   0,   0,   0,\n",
              "          0,   0],\n",
              "       [  0,   0,   0,   0,   0,   0,   0,   0,   0,   0,   0,   0,   3,\n",
              "         18,  18,  18, 126, 136, 175,  26, 166, 255, 247, 127,   0,   0,\n",
              "          0,   0],\n",
              "       [  0,   0,   0,   0,   0,   0,   0,   0,  30,  36,  94, 154, 170,\n",
              "        253, 253, 253, 253, 253, 225, 172, 253, 242, 195,  64,   0,   0,\n",
              "          0,   0],\n",
              "       [  0,   0,   0,   0,   0,   0,   0,  49, 238, 253, 253, 253, 253,\n",
              "        253, 253, 253, 253, 251,  93,  82,  82,  56,  39,   0,   0,   0,\n",
              "          0,   0],\n",
              "       [  0,   0,   0,   0,   0,   0,   0,  18, 219, 253, 253, 253, 253,\n",
              "        253, 198, 182, 247, 241,   0,   0,   0,   0,   0,   0,   0,   0,\n",
              "          0,   0],\n",
              "       [  0,   0,   0,   0,   0,   0,   0,   0,  80, 156, 107, 253, 253,\n",
              "        205,  11,   0,  43, 154,   0,   0,   0,   0,   0,   0,   0,   0,\n",
              "          0,   0],\n",
              "       [  0,   0,   0,   0,   0,   0,   0,   0,   0,  14,   1, 154, 253,\n",
              "         90,   0,   0,   0,   0,   0,   0,   0,   0,   0,   0,   0,   0,\n",
              "          0,   0],\n",
              "       [  0,   0,   0,   0,   0,   0,   0,   0,   0,   0,   0, 139, 253,\n",
              "        190,   2,   0,   0,   0,   0,   0,   0,   0,   0,   0,   0,   0,\n",
              "          0,   0],\n",
              "       [  0,   0,   0,   0,   0,   0,   0,   0,   0,   0,   0,  11, 190,\n",
              "        253,  70,   0,   0,   0,   0,   0,   0,   0,   0,   0,   0,   0,\n",
              "          0,   0],\n",
              "       [  0,   0,   0,   0,   0,   0,   0,   0,   0,   0,   0,   0,  35,\n",
              "        241, 225, 160, 108,   1,   0,   0,   0,   0,   0,   0,   0,   0,\n",
              "          0,   0],\n",
              "       [  0,   0,   0,   0,   0,   0,   0,   0,   0,   0,   0,   0,   0,\n",
              "         81, 240, 253, 253, 119,  25,   0,   0,   0,   0,   0,   0,   0,\n",
              "          0,   0],\n",
              "       [  0,   0,   0,   0,   0,   0,   0,   0,   0,   0,   0,   0,   0,\n",
              "          0,  45, 186, 253, 253, 150,  27,   0,   0,   0,   0,   0,   0,\n",
              "          0,   0],\n",
              "       [  0,   0,   0,   0,   0,   0,   0,   0,   0,   0,   0,   0,   0,\n",
              "          0,   0,  16,  93, 252, 253, 187,   0,   0,   0,   0,   0,   0,\n",
              "          0,   0],\n",
              "       [  0,   0,   0,   0,   0,   0,   0,   0,   0,   0,   0,   0,   0,\n",
              "          0,   0,   0,   0, 249, 253, 249,  64,   0,   0,   0,   0,   0,\n",
              "          0,   0],\n",
              "       [  0,   0,   0,   0,   0,   0,   0,   0,   0,   0,   0,   0,   0,\n",
              "          0,  46, 130, 183, 253, 253, 207,   2,   0,   0,   0,   0,   0,\n",
              "          0,   0],\n",
              "       [  0,   0,   0,   0,   0,   0,   0,   0,   0,   0,   0,   0,  39,\n",
              "        148, 229, 253, 253, 253, 250, 182,   0,   0,   0,   0,   0,   0,\n",
              "          0,   0],\n",
              "       [  0,   0,   0,   0,   0,   0,   0,   0,   0,   0,  24, 114, 221,\n",
              "        253, 253, 253, 253, 201,  78,   0,   0,   0,   0,   0,   0,   0,\n",
              "          0,   0],\n",
              "       [  0,   0,   0,   0,   0,   0,   0,   0,  23,  66, 213, 253, 253,\n",
              "        253, 253, 198,  81,   2,   0,   0,   0,   0,   0,   0,   0,   0,\n",
              "          0,   0],\n",
              "       [  0,   0,   0,   0,   0,   0,  18, 171, 219, 253, 253, 253, 253,\n",
              "        195,  80,   9,   0,   0,   0,   0,   0,   0,   0,   0,   0,   0,\n",
              "          0,   0],\n",
              "       [  0,   0,   0,   0,  55, 172, 226, 253, 253, 253, 253, 244, 133,\n",
              "         11,   0,   0,   0,   0,   0,   0,   0,   0,   0,   0,   0,   0,\n",
              "          0,   0],\n",
              "       [  0,   0,   0,   0, 136, 253, 253, 253, 212, 135, 132,  16,   0,\n",
              "          0,   0,   0,   0,   0,   0,   0,   0,   0,   0,   0,   0,   0,\n",
              "          0,   0],\n",
              "       [  0,   0,   0,   0,   0,   0,   0,   0,   0,   0,   0,   0,   0,\n",
              "          0,   0,   0,   0,   0,   0,   0,   0,   0,   0,   0,   0,   0,\n",
              "          0,   0],\n",
              "       [  0,   0,   0,   0,   0,   0,   0,   0,   0,   0,   0,   0,   0,\n",
              "          0,   0,   0,   0,   0,   0,   0,   0,   0,   0,   0,   0,   0,\n",
              "          0,   0],\n",
              "       [  0,   0,   0,   0,   0,   0,   0,   0,   0,   0,   0,   0,   0,\n",
              "          0,   0,   0,   0,   0,   0,   0,   0,   0,   0,   0,   0,   0,\n",
              "          0,   0]], dtype=uint8)"
            ],
            "text/html": [
              "<style>\n",
              "      .ndarray_repr .ndarray_raw_data {\n",
              "        display: none;\n",
              "      }\n",
              "      .ndarray_repr.show_array .ndarray_raw_data {\n",
              "        display: block;\n",
              "      }\n",
              "      .ndarray_repr.show_array .ndarray_image_preview {\n",
              "        display: none;\n",
              "      }\n",
              "      </style>\n",
              "      <div id=\"id-d41a6ed4-8b65-43cf-8860-b045db3f038e\" class=\"ndarray_repr\"><pre>ndarray (28, 28) <button style=\"padding: 0 2px;\">show data</button></pre><img src=\"data:image/png;base64,iVBORw0KGgoAAAANSUhEUgAAABwAAAAcCAAAAABXZoBIAAABAElEQVR4nGNgGMyAWUhIqK5jvdSy/9/rGRgYGFhgEnJsVjYCwQwMDAxPJgV+vniQgYGBgREqZ7iXH8r6l/SV4dn7m8gmCt3++/fv37/Htn3/iMW+gDnZf/+e5WbQnoXNNXyMs/5GoQoxwVmf/n9kSGFiwAW49/11wynJoPzx4YIcRlyygR/+/i2XxCWru+vv32nSuGQFYv/83Y3b4p9/fzpAmSyoMnohpiwM1w5h06Q+5enfv39/bcMiJVF09+/fv39P+mFKiTtd/fv3799jgZiBJLT69t+/f/8eDuDEkDJf8+jv379/v7Ryo4qzMDAwMAQGMjBc3/y35wM2V1IfAABFF16Aa0wAOwAAAABJRU5ErkJggg==\" class=\"ndarray_image_preview\" /><pre class=\"ndarray_raw_data\">array([[  0,   0,   0,   0,   0,   0,   0,   0,   0,   0,   0,   0,   0,\n",
              "          0,   0,   0,   0,   0,   0,   0,   0,   0,   0,   0,   0,   0,\n",
              "          0,   0],\n",
              "       [  0,   0,   0,   0,   0,   0,   0,   0,   0,   0,   0,   0,   0,\n",
              "          0,   0,   0,   0,   0,   0,   0,   0,   0,   0,   0,   0,   0,\n",
              "          0,   0],\n",
              "       [  0,   0,   0,   0,   0,   0,   0,   0,   0,   0,   0,   0,   0,\n",
              "          0,   0,   0,   0,   0,   0,   0,   0,   0,   0,   0,   0,   0,\n",
              "          0,   0],\n",
              "       [  0,   0,   0,   0,   0,   0,   0,   0,   0,   0,   0,   0,   0,\n",
              "          0,   0,   0,   0,   0,   0,   0,   0,   0,   0,   0,   0,   0,\n",
              "          0,   0],\n",
              "       [  0,   0,   0,   0,   0,   0,   0,   0,   0,   0,   0,   0,   0,\n",
              "          0,   0,   0,   0,   0,   0,   0,   0,   0,   0,   0,   0,   0,\n",
              "          0,   0],\n",
              "       [  0,   0,   0,   0,   0,   0,   0,   0,   0,   0,   0,   0,   3,\n",
              "         18,  18,  18, 126, 136, 175,  26, 166, 255, 247, 127,   0,   0,\n",
              "          0,   0],\n",
              "       [  0,   0,   0,   0,   0,   0,   0,   0,  30,  36,  94, 154, 170,\n",
              "        253, 253, 253, 253, 253, 225, 172, 253, 242, 195,  64,   0,   0,\n",
              "          0,   0],\n",
              "       [  0,   0,   0,   0,   0,   0,   0,  49, 238, 253, 253, 253, 253,\n",
              "        253, 253, 253, 253, 251,  93,  82,  82,  56,  39,   0,   0,   0,\n",
              "          0,   0],\n",
              "       [  0,   0,   0,   0,   0,   0,   0,  18, 219, 253, 253, 253, 253,\n",
              "        253, 198, 182, 247, 241,   0,   0,   0,   0,   0,   0,   0,   0,\n",
              "          0,   0],\n",
              "       [  0,   0,   0,   0,   0,   0,   0,   0,  80, 156, 107, 253, 253,\n",
              "        205,  11,   0,  43, 154,   0,   0,   0,   0,   0,   0,   0,   0,\n",
              "          0,   0],\n",
              "       [  0,   0,   0,   0,   0,   0,   0,   0,   0,  14,   1, 154, 253,\n",
              "         90,   0,   0,   0,   0,   0,   0,   0,   0,   0,   0,   0,   0,\n",
              "          0,   0],\n",
              "       [  0,   0,   0,   0,   0,   0,   0,   0,   0,   0,   0, 139, 253,\n",
              "        190,   2,   0,   0,   0,   0,   0,   0,   0,   0,   0,   0,   0,\n",
              "          0,   0],\n",
              "       [  0,   0,   0,   0,   0,   0,   0,   0,   0,   0,   0,  11, 190,\n",
              "        253,  70,   0,   0,   0,   0,   0,   0,   0,   0,   0,   0,   0,\n",
              "          0,   0],\n",
              "       [  0,   0,   0,   0,   0,   0,   0,   0,   0,   0,   0,   0,  35,\n",
              "        241, 225, 160, 108,   1,   0,   0,   0,   0,   0,   0,   0,   0,\n",
              "          0,   0],\n",
              "       [  0,   0,   0,   0,   0,   0,   0,   0,   0,   0,   0,   0,   0,\n",
              "         81, 240, 253, 253, 119,  25,   0,   0,   0,   0,   0,   0,   0,\n",
              "          0,   0],\n",
              "       [  0,   0,   0,   0,   0,   0,   0,   0,   0,   0,   0,   0,   0,\n",
              "          0,  45, 186, 253, 253, 150,  27,   0,   0,   0,   0,   0,   0,\n",
              "          0,   0],\n",
              "       [  0,   0,   0,   0,   0,   0,   0,   0,   0,   0,   0,   0,   0,\n",
              "          0,   0,  16,  93, 252, 253, 187,   0,   0,   0,   0,   0,   0,\n",
              "          0,   0],\n",
              "       [  0,   0,   0,   0,   0,   0,   0,   0,   0,   0,   0,   0,   0,\n",
              "          0,   0,   0,   0, 249, 253, 249,  64,   0,   0,   0,   0,   0,\n",
              "          0,   0],\n",
              "       [  0,   0,   0,   0,   0,   0,   0,   0,   0,   0,   0,   0,   0,\n",
              "          0,  46, 130, 183, 253, 253, 207,   2,   0,   0,   0,   0,   0,\n",
              "          0,   0],\n",
              "       [  0,   0,   0,   0,   0,   0,   0,   0,   0,   0,   0,   0,  39,\n",
              "        148, 229, 253, 253, 253, 250, 182,   0,   0,   0,   0,   0,   0,\n",
              "          0,   0],\n",
              "       [  0,   0,   0,   0,   0,   0,   0,   0,   0,   0,  24, 114, 221,\n",
              "        253, 253, 253, 253, 201,  78,   0,   0,   0,   0,   0,   0,   0,\n",
              "          0,   0],\n",
              "       [  0,   0,   0,   0,   0,   0,   0,   0,  23,  66, 213, 253, 253,\n",
              "        253, 253, 198,  81,   2,   0,   0,   0,   0,   0,   0,   0,   0,\n",
              "          0,   0],\n",
              "       [  0,   0,   0,   0,   0,   0,  18, 171, 219, 253, 253, 253, 253,\n",
              "        195,  80,   9,   0,   0,   0,   0,   0,   0,   0,   0,   0,   0,\n",
              "          0,   0],\n",
              "       [  0,   0,   0,   0,  55, 172, 226, 253, 253, 253, 253, 244, 133,\n",
              "         11,   0,   0,   0,   0,   0,   0,   0,   0,   0,   0,   0,   0,\n",
              "          0,   0],\n",
              "       [  0,   0,   0,   0, 136, 253, 253, 253, 212, 135, 132,  16,   0,\n",
              "          0,   0,   0,   0,   0,   0,   0,   0,   0,   0,   0,   0,   0,\n",
              "          0,   0],\n",
              "       [  0,   0,   0,   0,   0,   0,   0,   0,   0,   0,   0,   0,   0,\n",
              "          0,   0,   0,   0,   0,   0,   0,   0,   0,   0,   0,   0,   0,\n",
              "          0,   0],\n",
              "       [  0,   0,   0,   0,   0,   0,   0,   0,   0,   0,   0,   0,   0,\n",
              "          0,   0,   0,   0,   0,   0,   0,   0,   0,   0,   0,   0,   0,\n",
              "          0,   0],\n",
              "       [  0,   0,   0,   0,   0,   0,   0,   0,   0,   0,   0,   0,   0,\n",
              "          0,   0,   0,   0,   0,   0,   0,   0,   0,   0,   0,   0,   0,\n",
              "          0,   0]], dtype=uint8)</pre></div><script>\n",
              "      (() => {\n",
              "      const titles = ['show data', 'hide data'];\n",
              "      let index = 0\n",
              "      document.querySelector('#id-d41a6ed4-8b65-43cf-8860-b045db3f038e button').onclick = (e) => {\n",
              "        document.querySelector('#id-d41a6ed4-8b65-43cf-8860-b045db3f038e').classList.toggle('show_array');\n",
              "        index = (++index) % 2;\n",
              "        document.querySelector('#id-d41a6ed4-8b65-43cf-8860-b045db3f038e button').textContent = titles[index];\n",
              "        e.preventDefault();\n",
              "        e.stopPropagation();\n",
              "      }\n",
              "      })();\n",
              "    </script>"
            ]
          },
          "metadata": {},
          "execution_count": 5
        }
      ]
    },
    {
      "cell_type": "code",
      "source": [
        "y_train[0]"
      ],
      "metadata": {
        "colab": {
          "base_uri": "https://localhost:8080/"
        },
        "id": "89ARWE54e_74",
        "outputId": "20882703-bf66-430f-8d9f-45dcdb21fbf3"
      },
      "execution_count": null,
      "outputs": [
        {
          "output_type": "execute_result",
          "data": {
            "text/plain": [
              "5"
            ]
          },
          "metadata": {},
          "execution_count": 6
        }
      ]
    },
    {
      "cell_type": "code",
      "source": [
        "x_train.shape"
      ],
      "metadata": {
        "colab": {
          "base_uri": "https://localhost:8080/"
        },
        "id": "GEPRrK-ifPpu",
        "outputId": "cbefa65c-e983-43b7-b66e-80571b162273"
      },
      "execution_count": null,
      "outputs": [
        {
          "output_type": "execute_result",
          "data": {
            "text/plain": [
              "(60000, 28, 28)"
            ]
          },
          "metadata": {},
          "execution_count": 9
        }
      ]
    },
    {
      "cell_type": "code",
      "source": [
        "model=Sequential()"
      ],
      "metadata": {
        "id": "bCbwYAUUfG0R"
      },
      "execution_count": null,
      "outputs": []
    },
    {
      "cell_type": "code",
      "source": [
        "model.add(Conv2D(64,kernel_size=(3,3),activation='relu',input_shape=(28,28,1)))"
      ],
      "metadata": {
        "colab": {
          "base_uri": "https://localhost:8080/"
        },
        "id": "JkUOJ9PLfLi4",
        "outputId": "f63a6a26-38e4-4536-a1eb-cb9925ce3afc"
      },
      "execution_count": null,
      "outputs": [
        {
          "output_type": "stream",
          "name": "stderr",
          "text": [
            "/usr/local/lib/python3.10/dist-packages/keras/src/layers/convolutional/base_conv.py:107: UserWarning: Do not pass an `input_shape`/`input_dim` argument to a layer. When using Sequential models, prefer using an `Input(shape)` object as the first layer in the model instead.\n",
            "  super().__init__(activity_regularizer=activity_regularizer, **kwargs)\n"
          ]
        }
      ]
    },
    {
      "cell_type": "code",
      "source": [
        "model.add(MaxPooling2D())"
      ],
      "metadata": {
        "id": "ZYw0CXcbfbB7"
      },
      "execution_count": null,
      "outputs": []
    },
    {
      "cell_type": "code",
      "source": [
        "model.add(Conv2D(120,kernel_size=(3,3),activation='relu'))"
      ],
      "metadata": {
        "id": "51o0eVkuflsD"
      },
      "execution_count": null,
      "outputs": []
    },
    {
      "cell_type": "code",
      "source": [
        "model.add(MaxPooling2D())"
      ],
      "metadata": {
        "id": "eOXZNCEqfw1z"
      },
      "execution_count": null,
      "outputs": []
    },
    {
      "cell_type": "code",
      "source": [
        "model.add(Flatten())"
      ],
      "metadata": {
        "id": "aquR_qlefz0B"
      },
      "execution_count": null,
      "outputs": []
    },
    {
      "cell_type": "code",
      "source": [
        "model.add(Dense(128,activation='relu'))"
      ],
      "metadata": {
        "id": "2sG3mcTdf2_Z"
      },
      "execution_count": null,
      "outputs": []
    },
    {
      "cell_type": "code",
      "source": [
        "model.add(Dense(10,activation='softmax'))"
      ],
      "metadata": {
        "id": "CJHyM5Bmf5zh"
      },
      "execution_count": null,
      "outputs": []
    },
    {
      "cell_type": "code",
      "source": [
        "model.summary()"
      ],
      "metadata": {
        "colab": {
          "base_uri": "https://localhost:8080/",
          "height": 374
        },
        "id": "-fgE1h3mgB5a",
        "outputId": "903c306e-601a-49d0-f056-0e61e81f7211"
      },
      "execution_count": null,
      "outputs": [
        {
          "output_type": "display_data",
          "data": {
            "text/plain": [
              "\u001b[1mModel: \"sequential_1\"\u001b[0m\n"
            ],
            "text/html": [
              "<pre style=\"white-space:pre;overflow-x:auto;line-height:normal;font-family:Menlo,'DejaVu Sans Mono',consolas,'Courier New',monospace\"><span style=\"font-weight: bold\">Model: \"sequential_1\"</span>\n",
              "</pre>\n"
            ]
          },
          "metadata": {}
        },
        {
          "output_type": "display_data",
          "data": {
            "text/plain": [
              "┏━━━━━━━━━━━━━━━━━━━━━━━━━━━━━━━━━━━━━━┳━━━━━━━━━━━━━━━━━━━━━━━━━━━━━┳━━━━━━━━━━━━━━━━━┓\n",
              "┃\u001b[1m \u001b[0m\u001b[1mLayer (type)                        \u001b[0m\u001b[1m \u001b[0m┃\u001b[1m \u001b[0m\u001b[1mOutput Shape               \u001b[0m\u001b[1m \u001b[0m┃\u001b[1m \u001b[0m\u001b[1m        Param #\u001b[0m\u001b[1m \u001b[0m┃\n",
              "┡━━━━━━━━━━━━━━━━━━━━━━━━━━━━━━━━━━━━━━╇━━━━━━━━━━━━━━━━━━━━━━━━━━━━━╇━━━━━━━━━━━━━━━━━┩\n",
              "│ conv2d_2 (\u001b[38;5;33mConv2D\u001b[0m)                    │ (\u001b[38;5;45mNone\u001b[0m, \u001b[38;5;34m26\u001b[0m, \u001b[38;5;34m26\u001b[0m, \u001b[38;5;34m64\u001b[0m)          │             \u001b[38;5;34m640\u001b[0m │\n",
              "├──────────────────────────────────────┼─────────────────────────────┼─────────────────┤\n",
              "│ max_pooling2d_3 (\u001b[38;5;33mMaxPooling2D\u001b[0m)       │ (\u001b[38;5;45mNone\u001b[0m, \u001b[38;5;34m13\u001b[0m, \u001b[38;5;34m13\u001b[0m, \u001b[38;5;34m64\u001b[0m)          │               \u001b[38;5;34m0\u001b[0m │\n",
              "├──────────────────────────────────────┼─────────────────────────────┼─────────────────┤\n",
              "│ conv2d_3 (\u001b[38;5;33mConv2D\u001b[0m)                    │ (\u001b[38;5;45mNone\u001b[0m, \u001b[38;5;34m11\u001b[0m, \u001b[38;5;34m11\u001b[0m, \u001b[38;5;34m120\u001b[0m)         │          \u001b[38;5;34m69,240\u001b[0m │\n",
              "├──────────────────────────────────────┼─────────────────────────────┼─────────────────┤\n",
              "│ max_pooling2d_4 (\u001b[38;5;33mMaxPooling2D\u001b[0m)       │ (\u001b[38;5;45mNone\u001b[0m, \u001b[38;5;34m5\u001b[0m, \u001b[38;5;34m5\u001b[0m, \u001b[38;5;34m120\u001b[0m)           │               \u001b[38;5;34m0\u001b[0m │\n",
              "├──────────────────────────────────────┼─────────────────────────────┼─────────────────┤\n",
              "│ flatten_1 (\u001b[38;5;33mFlatten\u001b[0m)                  │ (\u001b[38;5;45mNone\u001b[0m, \u001b[38;5;34m3000\u001b[0m)                │               \u001b[38;5;34m0\u001b[0m │\n",
              "├──────────────────────────────────────┼─────────────────────────────┼─────────────────┤\n",
              "│ dense_2 (\u001b[38;5;33mDense\u001b[0m)                      │ (\u001b[38;5;45mNone\u001b[0m, \u001b[38;5;34m128\u001b[0m)                 │         \u001b[38;5;34m384,128\u001b[0m │\n",
              "├──────────────────────────────────────┼─────────────────────────────┼─────────────────┤\n",
              "│ dense_3 (\u001b[38;5;33mDense\u001b[0m)                      │ (\u001b[38;5;45mNone\u001b[0m, \u001b[38;5;34m10\u001b[0m)                  │           \u001b[38;5;34m1,290\u001b[0m │\n",
              "└──────────────────────────────────────┴─────────────────────────────┴─────────────────┘\n"
            ],
            "text/html": [
              "<pre style=\"white-space:pre;overflow-x:auto;line-height:normal;font-family:Menlo,'DejaVu Sans Mono',consolas,'Courier New',monospace\">┏━━━━━━━━━━━━━━━━━━━━━━━━━━━━━━━━━━━━━━┳━━━━━━━━━━━━━━━━━━━━━━━━━━━━━┳━━━━━━━━━━━━━━━━━┓\n",
              "┃<span style=\"font-weight: bold\"> Layer (type)                         </span>┃<span style=\"font-weight: bold\"> Output Shape                </span>┃<span style=\"font-weight: bold\">         Param # </span>┃\n",
              "┡━━━━━━━━━━━━━━━━━━━━━━━━━━━━━━━━━━━━━━╇━━━━━━━━━━━━━━━━━━━━━━━━━━━━━╇━━━━━━━━━━━━━━━━━┩\n",
              "│ conv2d_2 (<span style=\"color: #0087ff; text-decoration-color: #0087ff\">Conv2D</span>)                    │ (<span style=\"color: #00d7ff; text-decoration-color: #00d7ff\">None</span>, <span style=\"color: #00af00; text-decoration-color: #00af00\">26</span>, <span style=\"color: #00af00; text-decoration-color: #00af00\">26</span>, <span style=\"color: #00af00; text-decoration-color: #00af00\">64</span>)          │             <span style=\"color: #00af00; text-decoration-color: #00af00\">640</span> │\n",
              "├──────────────────────────────────────┼─────────────────────────────┼─────────────────┤\n",
              "│ max_pooling2d_3 (<span style=\"color: #0087ff; text-decoration-color: #0087ff\">MaxPooling2D</span>)       │ (<span style=\"color: #00d7ff; text-decoration-color: #00d7ff\">None</span>, <span style=\"color: #00af00; text-decoration-color: #00af00\">13</span>, <span style=\"color: #00af00; text-decoration-color: #00af00\">13</span>, <span style=\"color: #00af00; text-decoration-color: #00af00\">64</span>)          │               <span style=\"color: #00af00; text-decoration-color: #00af00\">0</span> │\n",
              "├──────────────────────────────────────┼─────────────────────────────┼─────────────────┤\n",
              "│ conv2d_3 (<span style=\"color: #0087ff; text-decoration-color: #0087ff\">Conv2D</span>)                    │ (<span style=\"color: #00d7ff; text-decoration-color: #00d7ff\">None</span>, <span style=\"color: #00af00; text-decoration-color: #00af00\">11</span>, <span style=\"color: #00af00; text-decoration-color: #00af00\">11</span>, <span style=\"color: #00af00; text-decoration-color: #00af00\">120</span>)         │          <span style=\"color: #00af00; text-decoration-color: #00af00\">69,240</span> │\n",
              "├──────────────────────────────────────┼─────────────────────────────┼─────────────────┤\n",
              "│ max_pooling2d_4 (<span style=\"color: #0087ff; text-decoration-color: #0087ff\">MaxPooling2D</span>)       │ (<span style=\"color: #00d7ff; text-decoration-color: #00d7ff\">None</span>, <span style=\"color: #00af00; text-decoration-color: #00af00\">5</span>, <span style=\"color: #00af00; text-decoration-color: #00af00\">5</span>, <span style=\"color: #00af00; text-decoration-color: #00af00\">120</span>)           │               <span style=\"color: #00af00; text-decoration-color: #00af00\">0</span> │\n",
              "├──────────────────────────────────────┼─────────────────────────────┼─────────────────┤\n",
              "│ flatten_1 (<span style=\"color: #0087ff; text-decoration-color: #0087ff\">Flatten</span>)                  │ (<span style=\"color: #00d7ff; text-decoration-color: #00d7ff\">None</span>, <span style=\"color: #00af00; text-decoration-color: #00af00\">3000</span>)                │               <span style=\"color: #00af00; text-decoration-color: #00af00\">0</span> │\n",
              "├──────────────────────────────────────┼─────────────────────────────┼─────────────────┤\n",
              "│ dense_2 (<span style=\"color: #0087ff; text-decoration-color: #0087ff\">Dense</span>)                      │ (<span style=\"color: #00d7ff; text-decoration-color: #00d7ff\">None</span>, <span style=\"color: #00af00; text-decoration-color: #00af00\">128</span>)                 │         <span style=\"color: #00af00; text-decoration-color: #00af00\">384,128</span> │\n",
              "├──────────────────────────────────────┼─────────────────────────────┼─────────────────┤\n",
              "│ dense_3 (<span style=\"color: #0087ff; text-decoration-color: #0087ff\">Dense</span>)                      │ (<span style=\"color: #00d7ff; text-decoration-color: #00d7ff\">None</span>, <span style=\"color: #00af00; text-decoration-color: #00af00\">10</span>)                  │           <span style=\"color: #00af00; text-decoration-color: #00af00\">1,290</span> │\n",
              "└──────────────────────────────────────┴─────────────────────────────┴─────────────────┘\n",
              "</pre>\n"
            ]
          },
          "metadata": {}
        },
        {
          "output_type": "display_data",
          "data": {
            "text/plain": [
              "\u001b[1m Total params: \u001b[0m\u001b[38;5;34m455,298\u001b[0m (1.74 MB)\n"
            ],
            "text/html": [
              "<pre style=\"white-space:pre;overflow-x:auto;line-height:normal;font-family:Menlo,'DejaVu Sans Mono',consolas,'Courier New',monospace\"><span style=\"font-weight: bold\"> Total params: </span><span style=\"color: #00af00; text-decoration-color: #00af00\">455,298</span> (1.74 MB)\n",
              "</pre>\n"
            ]
          },
          "metadata": {}
        },
        {
          "output_type": "display_data",
          "data": {
            "text/plain": [
              "\u001b[1m Trainable params: \u001b[0m\u001b[38;5;34m455,298\u001b[0m (1.74 MB)\n"
            ],
            "text/html": [
              "<pre style=\"white-space:pre;overflow-x:auto;line-height:normal;font-family:Menlo,'DejaVu Sans Mono',consolas,'Courier New',monospace\"><span style=\"font-weight: bold\"> Trainable params: </span><span style=\"color: #00af00; text-decoration-color: #00af00\">455,298</span> (1.74 MB)\n",
              "</pre>\n"
            ]
          },
          "metadata": {}
        },
        {
          "output_type": "display_data",
          "data": {
            "text/plain": [
              "\u001b[1m Non-trainable params: \u001b[0m\u001b[38;5;34m0\u001b[0m (0.00 B)\n"
            ],
            "text/html": [
              "<pre style=\"white-space:pre;overflow-x:auto;line-height:normal;font-family:Menlo,'DejaVu Sans Mono',consolas,'Courier New',monospace\"><span style=\"font-weight: bold\"> Non-trainable params: </span><span style=\"color: #00af00; text-decoration-color: #00af00\">0</span> (0.00 B)\n",
              "</pre>\n"
            ]
          },
          "metadata": {}
        }
      ]
    },
    {
      "cell_type": "code",
      "source": [
        "model.compile(optimizer='adam',loss='sparse_categorical_crossentropy',metrics=['accuracy'])"
      ],
      "metadata": {
        "id": "Fidtj5pLgI94"
      },
      "execution_count": null,
      "outputs": []
    },
    {
      "cell_type": "code",
      "source": [
        "model.fit(x_train,y_train,epochs=10,validation_data=(x_test,y_test))"
      ],
      "metadata": {
        "colab": {
          "base_uri": "https://localhost:8080/"
        },
        "id": "4TGzBNPEgPCZ",
        "outputId": "df495709-8d3e-415c-e775-f36e353fcc5c"
      },
      "execution_count": 36,
      "outputs": [
        {
          "metadata": {
            "tags": null
          },
          "name": "stdout",
          "output_type": "stream",
          "text": [
            "Epoch 1/10\n",
            "\u001b[1m1875/1875\u001b[0m \u001b[32m━━━━━━━━━━━━━━━━━━━━\u001b[0m\u001b[37m\u001b[0m \u001b[1m9s\u001b[0m 3ms/step - accuracy: 0.9082 - loss: 1.4636 - val_accuracy: 0.9800 - val_loss: 0.0673\n",
            "Epoch 2/10\n",
            "\u001b[1m1875/1875\u001b[0m \u001b[32m━━━━━━━━━━━━━━━━━━━━\u001b[0m\u001b[37m\u001b[0m \u001b[1m8s\u001b[0m 3ms/step - accuracy: 0.9831 - loss: 0.0562 - val_accuracy: 0.9814 - val_loss: 0.0585\n",
            "Epoch 3/10\n",
            "\u001b[1m1875/1875\u001b[0m \u001b[32m━━━━━━━━━━━━━━━━━━━━\u001b[0m\u001b[37m\u001b[0m \u001b[1m11s\u001b[0m 3ms/step - accuracy: 0.9859 - loss: 0.0449 - val_accuracy: 0.9829 - val_loss: 0.0610\n",
            "Epoch 4/10\n",
            "\u001b[1m1875/1875\u001b[0m \u001b[32m━━━━━━━━━━━━━━━━━━━━\u001b[0m\u001b[37m\u001b[0m \u001b[1m10s\u001b[0m 3ms/step - accuracy: 0.9887 - loss: 0.0364 - val_accuracy: 0.9837 - val_loss: 0.0531\n",
            "Epoch 5/10\n",
            "\u001b[1m1875/1875\u001b[0m \u001b[32m━━━━━━━━━━━━━━━━━━━━\u001b[0m\u001b[37m\u001b[0m \u001b[1m6s\u001b[0m 3ms/step - accuracy: 0.9904 - loss: 0.0305 - val_accuracy: 0.9859 - val_loss: 0.0576\n",
            "Epoch 6/10\n",
            "\u001b[1m1875/1875\u001b[0m \u001b[32m━━━━━━━━━━━━━━━━━━━━\u001b[0m\u001b[37m\u001b[0m \u001b[1m11s\u001b[0m 3ms/step - accuracy: 0.9927 - loss: 0.0245 - val_accuracy: 0.9873 - val_loss: 0.0554\n",
            "Epoch 7/10\n",
            "\u001b[1m1875/1875\u001b[0m \u001b[32m━━━━━━━━━━━━━━━━━━━━\u001b[0m\u001b[37m\u001b[0m \u001b[1m5s\u001b[0m 3ms/step - accuracy: 0.9942 - loss: 0.0196 - val_accuracy: 0.9855 - val_loss: 0.0602\n",
            "Epoch 8/10\n",
            "\u001b[1m1875/1875\u001b[0m \u001b[32m━━━━━━━━━━━━━━━━━━━━\u001b[0m\u001b[37m\u001b[0m \u001b[1m6s\u001b[0m 3ms/step - accuracy: 0.9939 - loss: 0.0190 - val_accuracy: 0.9855 - val_loss: 0.0583\n",
            "Epoch 9/10\n",
            "\u001b[1m1875/1875\u001b[0m \u001b[32m━━━━━━━━━━━━━━━━━━━━\u001b[0m\u001b[37m\u001b[0m \u001b[1m10s\u001b[0m 3ms/step - accuracy: 0.9941 - loss: 0.0192 - val_accuracy: 0.9811 - val_loss: 0.0889\n",
            "Epoch 10/10\n",
            "\u001b[1m1875/1875\u001b[0m \u001b[32m━━━━━━━━━━━━━━━━━━━━\u001b[0m\u001b[37m\u001b[0m \u001b[1m5s\u001b[0m 3ms/step - accuracy: 0.9947 - loss: 0.0187 - val_accuracy: 0.9870 - val_loss: 0.0691\n"
          ]
        },
        {
          "data": {
            "text/plain": [
              "<keras.src.callbacks.history.History at 0x7dbd965c1ba0>"
            ]
          },
          "execution_count": 36,
          "metadata": {},
          "output_type": "execute_result"
        }
      ]
    },
    {
      "cell_type": "code",
      "source": [
        "model.evaluate(x_test,y_test)"
      ],
      "metadata": {
        "id": "CGv3790tgTAW",
        "colab": {
          "base_uri": "https://localhost:8080/"
        },
        "outputId": "aaa935ce-f38a-40ce-fcf4-18a580ecbad5"
      },
      "execution_count": 37,
      "outputs": [
        {
          "output_type": "stream",
          "name": "stdout",
          "text": [
            "\u001b[1m313/313\u001b[0m \u001b[32m━━━━━━━━━━━━━━━━━━━━\u001b[0m\u001b[37m\u001b[0m \u001b[1m1s\u001b[0m 2ms/step - accuracy: 0.9829 - loss: 0.0850\n"
          ]
        },
        {
          "output_type": "execute_result",
          "data": {
            "text/plain": [
              "[0.06908523291349411, 0.9869999885559082]"
            ]
          },
          "metadata": {},
          "execution_count": 37
        }
      ]
    },
    {
      "cell_type": "code",
      "source": [
        "pred=model.predict(x_test)"
      ],
      "metadata": {
        "colab": {
          "base_uri": "https://localhost:8080/"
        },
        "id": "T59Cdni1gse9",
        "outputId": "a18a2f3c-a616-4338-9c87-928895acffdb"
      },
      "execution_count": 60,
      "outputs": [
        {
          "output_type": "stream",
          "name": "stdout",
          "text": [
            "\u001b[1m313/313\u001b[0m \u001b[32m━━━━━━━━━━━━━━━━━━━━\u001b[0m\u001b[37m\u001b[0m \u001b[1m0s\u001b[0m 1ms/step\n"
          ]
        }
      ]
    },
    {
      "cell_type": "code",
      "source": [
        "np.argmax(pred[0])"
      ],
      "metadata": {
        "id": "obv2HGjAg2M9",
        "colab": {
          "base_uri": "https://localhost:8080/"
        },
        "outputId": "bee9169e-ed43-4cda-81da-88280fc2f9d7"
      },
      "execution_count": 45,
      "outputs": [
        {
          "output_type": "execute_result",
          "data": {
            "text/plain": [
              "7"
            ]
          },
          "metadata": {},
          "execution_count": 45
        }
      ]
    },
    {
      "cell_type": "code",
      "source": [
        "y_test[0]"
      ],
      "metadata": {
        "colab": {
          "base_uri": "https://localhost:8080/"
        },
        "id": "0awdyq-oiOfa",
        "outputId": "1faef472-d75a-4857-8fcd-ef021e90b5c4"
      },
      "execution_count": 46,
      "outputs": [
        {
          "output_type": "execute_result",
          "data": {
            "text/plain": [
              "7"
            ]
          },
          "metadata": {},
          "execution_count": 46
        }
      ]
    },
    {
      "cell_type": "code",
      "source": [
        "plt.imshow(x_test[0])"
      ],
      "metadata": {
        "colab": {
          "base_uri": "https://localhost:8080/",
          "height": 447
        },
        "id": "eXATHadniRcc",
        "outputId": "9abb81ce-d957-4adc-e871-d6e9a97d5a3f"
      },
      "execution_count": 49,
      "outputs": [
        {
          "output_type": "execute_result",
          "data": {
            "text/plain": [
              "<matplotlib.image.AxesImage at 0x7dbd60e91450>"
            ]
          },
          "metadata": {},
          "execution_count": 49
        },
        {
          "output_type": "display_data",
          "data": {
            "text/plain": [
              "<Figure size 640x480 with 1 Axes>"
            ],
            "image/png": "[encoded data removed]"
          },
          "metadata": {}
        }
      ]
    },
    {
      "cell_type": "code",
      "source": [
        "np.argmax(pred[1])"
      ],
      "metadata": {
        "colab": {
          "base_uri": "https://localhost:8080/"
        },
        "id": "QQslahvMiX5z",
        "outputId": "baea6af1-2a8a-453f-a6c3-bbc7ec22956d"
      },
      "execution_count": 50,
      "outputs": [
        {
          "output_type": "execute_result",
          "data": {
            "text/plain": [
              "2"
            ]
          },
          "metadata": {},
          "execution_count": 50
        }
      ]
    },
    {
      "cell_type": "code",
      "source": [
        "plt.imshow(x_test[1])"
      ],
      "metadata": {
        "colab": {
          "base_uri": "https://localhost:8080/",
          "height": 447
        },
        "id": "IAwigCj1ihT6",
        "outputId": "2d183269-1606-4f91-b3a4-6bd12c84ca9b"
      },
      "execution_count": 51,
      "outputs": [
        {
          "output_type": "execute_result",
          "data": {
            "text/plain": [
              "<matplotlib.image.AxesImage at 0x7dbd60d57880>"
            ]
          },
          "metadata": {},
          "execution_count": 51
        },
        {
          "output_type": "display_data",
          "data": {
            "text/plain": [
              "<Figure size 640x480 with 1 Axes>"
            ],
            "image/png": "[encoded data removed]"
          },
          "metadata": {}
        }
      ]
    },
    {
      "cell_type": "code",
      "source": [
        "model.save('mnist_model.h5')"
      ],
      "metadata": {
        "colab": {
          "base_uri": "https://localhost:8080/"
        },
        "id": "kh5j1vtJik2W",
        "outputId": "914e8646-af3a-42d2-cfb5-440df137e38d"
      },
      "execution_count": 53,
      "outputs": [
        {
          "output_type": "stream",
          "name": "stderr",
          "text": [
            "WARNING:absl:You are saving your model as an HDF5 file via `model.save()` or `keras.saving.save_model(model)`. This file format is considered legacy. We recommend using instead the native Keras format, e.g. `model.save('my_model.keras')` or `keras.saving.save_model(model, 'my_model.keras')`. \n"
          ]
        }
      ]
    },
    {
      "cell_type": "code",
      "source": [
        "test_pred=[]\n",
        "for i in range(len(pred)):\n",
        "    test_pred.append(np.argmax(pred[i]))"
      ],
      "metadata": {
        "id": "oDxAgdVZirVN"
      },
      "execution_count": 73,
      "outputs": []
    },
    {
      "cell_type": "code",
      "source": [
        "test_pred"
      ],
      "metadata": {
        "colab": {
          "base_uri": "https://localhost:8080/"
        },
        "id": "4N_2oo7Bi6hx",
        "outputId": "9369d598-b262-4406-930e-b22476431b6f"
      },
      "execution_count": 74,
      "outputs": [
        {
          "output_type": "execute_result",
          "data": {
            "text/plain": [
              "[7,\n",
              " 2,\n",
              " 1,\n",
              " 0,\n",
              " 4,\n",
              " 1,\n",
              " 4,\n",
              " 9,\n",
              " 5,\n",
              " 9,\n",
              " 0,\n",
              " 6,\n",
              " 9,\n",
              " 0,\n",
              " 1,\n",
              " 5,\n",
              " 9,\n",
              " 7,\n",
              " 3,\n",
              " 4,\n",
              " 9,\n",
              " 6,\n",
              " 6,\n",
              " 5,\n",
              " 4,\n",
              " 0,\n",
              " 7,\n",
              " 4,\n",
              " 0,\n",
              " 1,\n",
              " 3,\n",
              " 1,\n",
              " 3,\n",
              " 4,\n",
              " 7,\n",
              " 2,\n",
              " 7,\n",
              " 1,\n",
              " 2,\n",
              " 1,\n",
              " 1,\n",
              " 7,\n",
              " 4,\n",
              " 2,\n",
              " 3,\n",
              " 5,\n",
              " 1,\n",
              " 2,\n",
              " 4,\n",
              " 4,\n",
              " 6,\n",
              " 3,\n",
              " 5,\n",
              " 5,\n",
              " 6,\n",
              " 0,\n",
              " 4,\n",
              " 1,\n",
              " 9,\n",
              " 5,\n",
              " 7,\n",
              " 8,\n",
              " 9,\n",
              " 3,\n",
              " 7,\n",
              " 4,\n",
              " 6,\n",
              " 4,\n",
              " 3,\n",
              " 0,\n",
              " 7,\n",
              " 0,\n",
              " 2,\n",
              " 9,\n",
              " 1,\n",
              " 7,\n",
              " 3,\n",
              " 2,\n",
              " 9,\n",
              " 7,\n",
              " 7,\n",
              " 6,\n",
              " 2,\n",
              " 7,\n",
              " 8,\n",
              " 4,\n",
              " 7,\n",
              " 3,\n",
              " 6,\n",
              " 8,\n",
              " 3,\n",
              " 6,\n",
              " 9,\n",
              " 3,\n",
              " 1,\n",
              " 8,\n",
              " 1,\n",
              " 7,\n",
              " 6,\n",
              " 9,\n",
              " 6,\n",
              " 0,\n",
              " 5,\n",
              " 4,\n",
              " 9,\n",
              " 9,\n",
              " 2,\n",
              " 1,\n",
              " 9,\n",
              " 4,\n",
              " 8,\n",
              " 7,\n",
              " 3,\n",
              " 9,\n",
              " 7,\n",
              " 4,\n",
              " 4,\n",
              " 4,\n",
              " 9,\n",
              " 2,\n",
              " 5,\n",
              " 4,\n",
              " 7,\n",
              " 6,\n",
              " 7,\n",
              " 9,\n",
              " 0,\n",
              " 5,\n",
              " 8,\n",
              " 5,\n",
              " 6,\n",
              " 6,\n",
              " 5,\n",
              " 7,\n",
              " 8,\n",
              " 1,\n",
              " 0,\n",
              " 1,\n",
              " 6,\n",
              " 4,\n",
              " 6,\n",
              " 7,\n",
              " 3,\n",
              " 1,\n",
              " 7,\n",
              " 1,\n",
              " 8,\n",
              " 2,\n",
              " 0,\n",
              " 2,\n",
              " 9,\n",
              " 9,\n",
              " 5,\n",
              " 5,\n",
              " 1,\n",
              " 5,\n",
              " 6,\n",
              " 0,\n",
              " 3,\n",
              " 4,\n",
              " 4,\n",
              " 6,\n",
              " 5,\n",
              " 4,\n",
              " 6,\n",
              " 5,\n",
              " 4,\n",
              " 5,\n",
              " 1,\n",
              " 4,\n",
              " 4,\n",
              " 9,\n",
              " 2,\n",
              " 3,\n",
              " 2,\n",
              " 7,\n",
              " 1,\n",
              " 8,\n",
              " 1,\n",
              " 8,\n",
              " 1,\n",
              " 8,\n",
              " 5,\n",
              " 0,\n",
              " 8,\n",
              " 9,\n",
              " 2,\n",
              " 5,\n",
              " 0,\n",
              " 1,\n",
              " 8,\n",
              " 1,\n",
              " 0,\n",
              " 9,\n",
              " 0,\n",
              " 3,\n",
              " 1,\n",
              " 6,\n",
              " 4,\n",
              " 2,\n",
              " 3,\n",
              " 6,\n",
              " 1,\n",
              " 1,\n",
              " 1,\n",
              " 3,\n",
              " 9,\n",
              " 5,\n",
              " 2,\n",
              " 9,\n",
              " 4,\n",
              " 5,\n",
              " 9,\n",
              " 3,\n",
              " 9,\n",
              " 0,\n",
              " 3,\n",
              " 6,\n",
              " 5,\n",
              " 5,\n",
              " 7,\n",
              " 2,\n",
              " 2,\n",
              " 7,\n",
              " 1,\n",
              " 2,\n",
              " 8,\n",
              " 4,\n",
              " 1,\n",
              " 7,\n",
              " 3,\n",
              " 3,\n",
              " 8,\n",
              " 8,\n",
              " 7,\n",
              " 9,\n",
              " 2,\n",
              " 2,\n",
              " 4,\n",
              " 1,\n",
              " 5,\n",
              " 9,\n",
              " 8,\n",
              " 7,\n",
              " 2,\n",
              " 3,\n",
              " 0,\n",
              " 2,\n",
              " 4,\n",
              " 2,\n",
              " 4,\n",
              " 1,\n",
              " 9,\n",
              " 5,\n",
              " 7,\n",
              " 7,\n",
              " 2,\n",
              " 8,\n",
              " 2,\n",
              " 6,\n",
              " 8,\n",
              " 5,\n",
              " 7,\n",
              " 7,\n",
              " 9,\n",
              " 1,\n",
              " 8,\n",
              " 1,\n",
              " 8,\n",
              " 0,\n",
              " 3,\n",
              " 0,\n",
              " 1,\n",
              " 9,\n",
              " 9,\n",
              " 4,\n",
              " 1,\n",
              " 8,\n",
              " 2,\n",
              " 1,\n",
              " 2,\n",
              " 9,\n",
              " 7,\n",
              " 5,\n",
              " 9,\n",
              " 2,\n",
              " 6,\n",
              " 4,\n",
              " 1,\n",
              " 5,\n",
              " 8,\n",
              " 2,\n",
              " 9,\n",
              " 2,\n",
              " 0,\n",
              " 4,\n",
              " 0,\n",
              " 0,\n",
              " 2,\n",
              " 8,\n",
              " 4,\n",
              " 7,\n",
              " 1,\n",
              " 3,\n",
              " 4,\n",
              " 0,\n",
              " 2,\n",
              " 7,\n",
              " 4,\n",
              " 3,\n",
              " 3,\n",
              " 0,\n",
              " 0,\n",
              " 3,\n",
              " 1,\n",
              " 9,\n",
              " 6,\n",
              " 5,\n",
              " 2,\n",
              " 5,\n",
              " 8,\n",
              " 7,\n",
              " 9,\n",
              " 3,\n",
              " 0,\n",
              " 4,\n",
              " 2,\n",
              " 0,\n",
              " 7,\n",
              " 1,\n",
              " 1,\n",
              " 2,\n",
              " 1,\n",
              " 5,\n",
              " 3,\n",
              " 3,\n",
              " 9,\n",
              " 7,\n",
              " 8,\n",
              " 6,\n",
              " 5,\n",
              " 6,\n",
              " 1,\n",
              " 3,\n",
              " 8,\n",
              " 1,\n",
              " 0,\n",
              " 5,\n",
              " 1,\n",
              " 3,\n",
              " 1,\n",
              " 5,\n",
              " 5,\n",
              " 6,\n",
              " 1,\n",
              " 8,\n",
              " 5,\n",
              " 1,\n",
              " 7,\n",
              " 9,\n",
              " 4,\n",
              " 6,\n",
              " 2,\n",
              " 2,\n",
              " 5,\n",
              " 0,\n",
              " 6,\n",
              " 5,\n",
              " 6,\n",
              " 3,\n",
              " 7,\n",
              " 2,\n",
              " 0,\n",
              " 8,\n",
              " 8,\n",
              " 5,\n",
              " 4,\n",
              " 1,\n",
              " 1,\n",
              " 4,\n",
              " 0,\n",
              " 3,\n",
              " 3,\n",
              " 7,\n",
              " 6,\n",
              " 1,\n",
              " 6,\n",
              " 2,\n",
              " 1,\n",
              " 9,\n",
              " 2,\n",
              " 8,\n",
              " 6,\n",
              " 1,\n",
              " 9,\n",
              " 5,\n",
              " 2,\n",
              " 5,\n",
              " 4,\n",
              " 4,\n",
              " 2,\n",
              " 8,\n",
              " 3,\n",
              " 8,\n",
              " 2,\n",
              " 4,\n",
              " 5,\n",
              " 0,\n",
              " 3,\n",
              " 1,\n",
              " 7,\n",
              " 7,\n",
              " 5,\n",
              " 7,\n",
              " 9,\n",
              " 7,\n",
              " 1,\n",
              " 9,\n",
              " 2,\n",
              " 1,\n",
              " 4,\n",
              " 2,\n",
              " 9,\n",
              " 2,\n",
              " 0,\n",
              " 4,\n",
              " 9,\n",
              " 1,\n",
              " 4,\n",
              " 8,\n",
              " 1,\n",
              " 8,\n",
              " 4,\n",
              " 5,\n",
              " 9,\n",
              " 8,\n",
              " 8,\n",
              " 3,\n",
              " 7,\n",
              " 6,\n",
              " 0,\n",
              " 0,\n",
              " 3,\n",
              " 0,\n",
              " 2,\n",
              " 0,\n",
              " 6,\n",
              " 4,\n",
              " 9,\n",
              " 5,\n",
              " 3,\n",
              " 3,\n",
              " 2,\n",
              " 3,\n",
              " 9,\n",
              " 1,\n",
              " 2,\n",
              " 6,\n",
              " 8,\n",
              " 0,\n",
              " 5,\n",
              " 6,\n",
              " 6,\n",
              " 6,\n",
              " 3,\n",
              " 8,\n",
              " 8,\n",
              " 2,\n",
              " 7,\n",
              " 5,\n",
              " 8,\n",
              " 9,\n",
              " 6,\n",
              " 1,\n",
              " 8,\n",
              " 4,\n",
              " 1,\n",
              " 2,\n",
              " 5,\n",
              " 9,\n",
              " 1,\n",
              " 9,\n",
              " 7,\n",
              " 5,\n",
              " 4,\n",
              " 0,\n",
              " 8,\n",
              " 9,\n",
              " 9,\n",
              " 1,\n",
              " 0,\n",
              " 5,\n",
              " 2,\n",
              " 3,\n",
              " 7,\n",
              " 8,\n",
              " 9,\n",
              " 4,\n",
              " 0,\n",
              " 6,\n",
              " 3,\n",
              " 9,\n",
              " 5,\n",
              " 2,\n",
              " 1,\n",
              " 3,\n",
              " 1,\n",
              " 3,\n",
              " 6,\n",
              " 5,\n",
              " 7,\n",
              " 4,\n",
              " 2,\n",
              " 2,\n",
              " 6,\n",
              " 3,\n",
              " 2,\n",
              " 6,\n",
              " 5,\n",
              " 4,\n",
              " 8,\n",
              " 9,\n",
              " 7,\n",
              " 1,\n",
              " 3,\n",
              " 0,\n",
              " 3,\n",
              " 8,\n",
              " 3,\n",
              " 1,\n",
              " 9,\n",
              " 3,\n",
              " 4,\n",
              " 4,\n",
              " 6,\n",
              " 4,\n",
              " 2,\n",
              " 1,\n",
              " 8,\n",
              " 2,\n",
              " 5,\n",
              " 4,\n",
              " 8,\n",
              " 8,\n",
              " 4,\n",
              " 0,\n",
              " 0,\n",
              " 2,\n",
              " 3,\n",
              " 2,\n",
              " 7,\n",
              " 3,\n",
              " 0,\n",
              " 8,\n",
              " 7,\n",
              " 4,\n",
              " 4,\n",
              " 7,\n",
              " 9,\n",
              " 6,\n",
              " 9,\n",
              " 0,\n",
              " 9,\n",
              " 8,\n",
              " 0,\n",
              " 4,\n",
              " 6,\n",
              " 0,\n",
              " 6,\n",
              " 3,\n",
              " 5,\n",
              " 4,\n",
              " 8,\n",
              " 3,\n",
              " 3,\n",
              " 9,\n",
              " 3,\n",
              " 3,\n",
              " 3,\n",
              " 7,\n",
              " 8,\n",
              " 0,\n",
              " 2,\n",
              " 2,\n",
              " 1,\n",
              " 7,\n",
              " 0,\n",
              " 6,\n",
              " 5,\n",
              " 4,\n",
              " 3,\n",
              " 8,\n",
              " 0,\n",
              " 8,\n",
              " 6,\n",
              " 3,\n",
              " 8,\n",
              " 0,\n",
              " 9,\n",
              " 9,\n",
              " 6,\n",
              " 8,\n",
              " 6,\n",
              " 8,\n",
              " 5,\n",
              " 7,\n",
              " 8,\n",
              " 6,\n",
              " 0,\n",
              " 2,\n",
              " 4,\n",
              " 0,\n",
              " 2,\n",
              " 2,\n",
              " 3,\n",
              " 1,\n",
              " 9,\n",
              " 7,\n",
              " 5,\n",
              " 8,\n",
              " 0,\n",
              " 8,\n",
              " 4,\n",
              " 6,\n",
              " 2,\n",
              " 6,\n",
              " 7,\n",
              " 9,\n",
              " 3,\n",
              " 2,\n",
              " 9,\n",
              " 8,\n",
              " 2,\n",
              " 2,\n",
              " 9,\n",
              " 2,\n",
              " 7,\n",
              " 3,\n",
              " 5,\n",
              " 9,\n",
              " 1,\n",
              " 8,\n",
              " 0,\n",
              " 2,\n",
              " 0,\n",
              " 5,\n",
              " 2,\n",
              " 1,\n",
              " 3,\n",
              " 7,\n",
              " 6,\n",
              " 7,\n",
              " 1,\n",
              " 2,\n",
              " 5,\n",
              " 8,\n",
              " 0,\n",
              " 3,\n",
              " 7,\n",
              " 1,\n",
              " 4,\n",
              " 0,\n",
              " 9,\n",
              " 1,\n",
              " 8,\n",
              " 6,\n",
              " 7,\n",
              " 7,\n",
              " 4,\n",
              " 3,\n",
              " 4,\n",
              " 9,\n",
              " 1,\n",
              " 9,\n",
              " 5,\n",
              " 1,\n",
              " 7,\n",
              " 3,\n",
              " 9,\n",
              " 7,\n",
              " 6,\n",
              " 9,\n",
              " 1,\n",
              " 3,\n",
              " 9,\n",
              " 8,\n",
              " 3,\n",
              " 3,\n",
              " 6,\n",
              " 7,\n",
              " 2,\n",
              " 8,\n",
              " 5,\n",
              " 8,\n",
              " 5,\n",
              " 1,\n",
              " 1,\n",
              " 4,\n",
              " 4,\n",
              " 3,\n",
              " 1,\n",
              " 0,\n",
              " 7,\n",
              " 7,\n",
              " 0,\n",
              " 7,\n",
              " 9,\n",
              " 4,\n",
              " 4,\n",
              " 8,\n",
              " 5,\n",
              " 5,\n",
              " 4,\n",
              " 0,\n",
              " 8,\n",
              " 2,\n",
              " 7,\n",
              " 0,\n",
              " 8,\n",
              " 4,\n",
              " 5,\n",
              " 0,\n",
              " 4,\n",
              " 0,\n",
              " 6,\n",
              " 1,\n",
              " 5,\n",
              " 3,\n",
              " 2,\n",
              " 6,\n",
              " 7,\n",
              " 2,\n",
              " 6,\n",
              " 9,\n",
              " 3,\n",
              " 1,\n",
              " 4,\n",
              " 6,\n",
              " 2,\n",
              " 5,\n",
              " 9,\n",
              " 2,\n",
              " 0,\n",
              " 6,\n",
              " 2,\n",
              " 1,\n",
              " 7,\n",
              " 3,\n",
              " 4,\n",
              " 1,\n",
              " 0,\n",
              " 5,\n",
              " 4,\n",
              " 3,\n",
              " 1,\n",
              " 1,\n",
              " 7,\n",
              " 4,\n",
              " 9,\n",
              " 9,\n",
              " 4,\n",
              " 8,\n",
              " 9,\n",
              " 0,\n",
              " 2,\n",
              " 4,\n",
              " 5,\n",
              " 1,\n",
              " 1,\n",
              " 6,\n",
              " 4,\n",
              " 7,\n",
              " 1,\n",
              " 9,\n",
              " 4,\n",
              " 2,\n",
              " 4,\n",
              " 1,\n",
              " 5,\n",
              " 5,\n",
              " 3,\n",
              " 8,\n",
              " 3,\n",
              " 1,\n",
              " 4,\n",
              " 5,\n",
              " 6,\n",
              " 8,\n",
              " 9,\n",
              " 4,\n",
              " 1,\n",
              " 5,\n",
              " 3,\n",
              " 8,\n",
              " 0,\n",
              " 3,\n",
              " 2,\n",
              " 5,\n",
              " 1,\n",
              " 2,\n",
              " 8,\n",
              " 3,\n",
              " 4,\n",
              " 4,\n",
              " 0,\n",
              " 8,\n",
              " 8,\n",
              " 3,\n",
              " 3,\n",
              " 1,\n",
              " 7,\n",
              " 3,\n",
              " 5,\n",
              " 9,\n",
              " 6,\n",
              " 3,\n",
              " 2,\n",
              " 6,\n",
              " 1,\n",
              " 3,\n",
              " 6,\n",
              " 0,\n",
              " 7,\n",
              " 2,\n",
              " 1,\n",
              " 7,\n",
              " 1,\n",
              " 4,\n",
              " 2,\n",
              " 4,\n",
              " 2,\n",
              " 1,\n",
              " 7,\n",
              " 9,\n",
              " 6,\n",
              " 1,\n",
              " 1,\n",
              " 2,\n",
              " 4,\n",
              " 8,\n",
              " 1,\n",
              " 7,\n",
              " 7,\n",
              " 4,\n",
              " 8,\n",
              " 0,\n",
              " 7,\n",
              " 3,\n",
              " 1,\n",
              " 3,\n",
              " 1,\n",
              " 0,\n",
              " 7,\n",
              " 7,\n",
              " 0,\n",
              " 3,\n",
              " 5,\n",
              " 5,\n",
              " 2,\n",
              " 7,\n",
              " 6,\n",
              " 6,\n",
              " 9,\n",
              " 2,\n",
              " 8,\n",
              " 3,\n",
              " 5,\n",
              " 2,\n",
              " 2,\n",
              " 5,\n",
              " 6,\n",
              " 0,\n",
              " 8,\n",
              " 2,\n",
              " 9,\n",
              " 2,\n",
              " 8,\n",
              " 8,\n",
              " 8,\n",
              " 8,\n",
              " 7,\n",
              " 4,\n",
              " 9,\n",
              " 3,\n",
              " 0,\n",
              " 6,\n",
              " 6,\n",
              " 3,\n",
              " 2,\n",
              " 1,\n",
              " 3,\n",
              " 2,\n",
              " 2,\n",
              " 9,\n",
              " 3,\n",
              " 0,\n",
              " 0,\n",
              " 5,\n",
              " 7,\n",
              " 8,\n",
              " 1,\n",
              " 4,\n",
              " 4,\n",
              " 6,\n",
              " 0,\n",
              " 2,\n",
              " 9,\n",
              " 1,\n",
              " 4,\n",
              " 7,\n",
              " 4,\n",
              " 7,\n",
              " 3,\n",
              " 9,\n",
              " 8,\n",
              " 8,\n",
              " 4,\n",
              " 7,\n",
              " 1,\n",
              " 2,\n",
              " 1,\n",
              " 2,\n",
              " 2,\n",
              " 3,\n",
              " 2,\n",
              " 3,\n",
              " 2,\n",
              " 3,\n",
              " 9,\n",
              " 1,\n",
              " 7,\n",
              " 4,\n",
              " 0,\n",
              " 3,\n",
              " 5,\n",
              " 5,\n",
              " 8,\n",
              " 6,\n",
              " 5,\n",
              " 2,\n",
              " 6,\n",
              " 7,\n",
              " 6,\n",
              " 6,\n",
              " 3,\n",
              " 2,\n",
              " 7,\n",
              " 9,\n",
              " 1,\n",
              " 1,\n",
              " 7,\n",
              " 5,\n",
              " 6,\n",
              " 4,\n",
              " 9,\n",
              " 5,\n",
              " 1,\n",
              " 3,\n",
              " 3,\n",
              " 4,\n",
              " 7,\n",
              " 8,\n",
              " 9,\n",
              " 1,\n",
              " 1,\n",
              " 6,\n",
              " 9,\n",
              " 1,\n",
              " 4,\n",
              " 4,\n",
              " 5,\n",
              " 4,\n",
              " 0,\n",
              " 6,\n",
              " 2,\n",
              " 2,\n",
              " 3,\n",
              " 1,\n",
              " 5,\n",
              " 1,\n",
              " 2,\n",
              " 0,\n",
              " 3,\n",
              " 8,\n",
              " 1,\n",
              " 2,\n",
              " 6,\n",
              " 7,\n",
              " 1,\n",
              " 6,\n",
              " 2,\n",
              " 3,\n",
              " 9,\n",
              " 0,\n",
              " 1,\n",
              " 2,\n",
              " 2,\n",
              " 0,\n",
              " 8,\n",
              " 9,\n",
              " ...]"
            ]
          },
          "metadata": {},
          "execution_count": 74
        }
      ]
    },
    {
      "cell_type": "code",
      "source": [
        "confusion_matrix(y_test,test_pred)"
      ],
      "metadata": {
        "colab": {
          "base_uri": "https://localhost:8080/"
        },
        "id": "K8CfmqX-jNO6",
        "outputId": "85b7a51a-37f5-4244-d0e9-8beeef071de9"
      },
      "execution_count": 76,
      "outputs": [
        {
          "output_type": "execute_result",
          "data": {
            "text/plain": [
              "array([[ 974,    0,    1,    0,    0,    0,    2,    1,    1,    1],\n",
              "       [   0, 1117,    2,    0,    0,    0,    2,    3,   10,    1],\n",
              "       [   1,    1, 1020,    3,    0,    0,    0,    4,    3,    0],\n",
              "       [   0,    0,    0, 1004,    0,    5,    0,    0,    1,    0],\n",
              "       [   0,    1,    1,    0,  958,    0,    3,    1,    4,   14],\n",
              "       [   2,    0,    1,    4,    0,  883,    1,    0,    0,    1],\n",
              "       [   5,    2,    2,    0,    0,    2,  945,    0,    2,    0],\n",
              "       [   0,    0,    4,    1,    1,    1,    0, 1011,    4,    6],\n",
              "       [   2,    0,    1,    0,    0,    2,    0,    0,  968,    1],\n",
              "       [   0,    0,    0,    0,    4,    5,    0,    4,    6,  990]])"
            ]
          },
          "metadata": {},
          "execution_count": 76
        }
      ]
    },
    {
      "cell_type": "code",
      "source": [
        "plt.figure(figsize=(10,10))\n",
        "sns.heatmap(confusion_matrix(y_test,test_pred),annot=True)\n",
        "plt.show()"
      ],
      "metadata": {
        "colab": {
          "base_uri": "https://localhost:8080/",
          "height": 830
        },
        "id": "rS-TcpIGlMYg",
        "outputId": "2cd8159f-6d5b-4e1b-fab9-3f4194300a7c"
      },
      "execution_count": 83,
      "outputs": [
        {
          "output_type": "display_data",
          "data": {
            "text/plain": [
              "<Figure size 1000x1000 with 2 Axes>"
            ],
            "image/png": "[encoded data removed]"
          },
          "metadata": {}
        }
      ]
    },
    {
      "cell_type": "code",
      "source": [
        "print(classification_report(y_test,test_pred))"
      ],
      "metadata": {
        "colab": {
          "base_uri": "https://localhost:8080/"
        },
        "id": "dhiIr-hHlPp5",
        "outputId": "95d6bd69-730b-4e06-bc03-c390325cba48"
      },
      "execution_count": 86,
      "outputs": [
        {
          "output_type": "stream",
          "name": "stdout",
          "text": [
            "              precision    recall  f1-score   support\n",
            "\n",
            "           0       0.99      0.99      0.99       980\n",
            "           1       1.00      0.98      0.99      1135\n",
            "           2       0.99      0.99      0.99      1032\n",
            "           3       0.99      0.99      0.99      1010\n",
            "           4       0.99      0.98      0.99       982\n",
            "           5       0.98      0.99      0.99       892\n",
            "           6       0.99      0.99      0.99       958\n",
            "           7       0.99      0.98      0.99      1028\n",
            "           8       0.97      0.99      0.98       974\n",
            "           9       0.98      0.98      0.98      1009\n",
            "\n",
            "    accuracy                           0.99     10000\n",
            "   macro avg       0.99      0.99      0.99     10000\n",
            "weighted avg       0.99      0.99      0.99     10000\n",
            "\n"
          ]
        }
      ]
    },
    {
      "cell_type": "code",
      "source": [
        "recall_score(y_test,test_pred,average='weighted')"
      ],
      "metadata": {
        "colab": {
          "base_uri": "https://localhost:8080/"
        },
        "id": "1yBREFTnlvZk",
        "outputId": "657b1d8a-270f-47e1-c4fc-efdc0e4ed818"
      },
      "execution_count": 88,
      "outputs": [
        {
          "output_type": "execute_result",
          "data": {
            "text/plain": [
              "0.987"
            ]
          },
          "metadata": {},
          "execution_count": 88
        }
      ]
    },
    {
      "cell_type": "code",
      "source": [
        "precision_score(y_test,test_pred,average='weighted')"
      ],
      "metadata": {
        "colab": {
          "base_uri": "https://localhost:8080/"
        },
        "id": "HtQ7FQv9l76g",
        "outputId": "9fe49e2a-6816-4373-e889-72eba2b8ba5a"
      },
      "execution_count": 89,
      "outputs": [
        {
          "output_type": "execute_result",
          "data": {
            "text/plain": [
              "0.9870809442954754"
            ]
          },
          "metadata": {},
          "execution_count": 89
        }
      ]
    },
    {
      "cell_type": "code",
      "source": [],
      "metadata": {
        "id": "So76IXtdmHOh"
      },
      "execution_count": null,
      "outputs": []
    }
  ]
}